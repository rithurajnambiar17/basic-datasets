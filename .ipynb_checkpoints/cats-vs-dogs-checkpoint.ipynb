{
 "cells": [
  {
   "cell_type": "code",
   "execution_count": 15,
   "id": "93537ff3",
   "metadata": {},
   "outputs": [],
   "source": [
    "# !kaggle competitions download -c dogs-vs-cats --force"
   ]
  },
  {
   "cell_type": "code",
   "execution_count": 16,
   "id": "ca4f77b7",
   "metadata": {},
   "outputs": [],
   "source": [
    "import os\n",
    "import shutil"
   ]
  },
  {
   "cell_type": "code",
   "execution_count": 17,
   "id": "d48c5319",
   "metadata": {},
   "outputs": [],
   "source": [
    "# shutil.move('./dogs-vs-cats.zip', './data/dogs-vs-cats.zip')"
   ]
  },
  {
   "cell_type": "code",
   "execution_count": 18,
   "id": "24a01e8b",
   "metadata": {},
   "outputs": [],
   "source": [
    "# import zipfile\n",
    "\n",
    "# Unzip data set\n",
    "# local_zip = './data/dogs-vs-cats.zip'\n",
    "# zip_ref = zipfile.ZipFile(local_zip, 'r')\n",
    "# zip_ref.extractall('./data/dogs-vs-cats')\n",
    "\n",
    "# zip_ref.close()"
   ]
  },
  {
   "cell_type": "code",
   "execution_count": 19,
   "id": "bacb2d06",
   "metadata": {},
   "outputs": [],
   "source": [
    "# os.remove('./data/dogs-vs-cats.zip')"
   ]
  },
  {
   "cell_type": "code",
   "execution_count": 20,
   "id": "49e33703",
   "metadata": {},
   "outputs": [],
   "source": [
    "#Unzipping training data\n",
    "# local_zip = './data/dogs-vs-cats/train.zip'\n",
    "# zip_ref = zipfile.ZipFile(local_zip, 'r')\n",
    "# zip_ref.extractall('./data/dogs-vs-cats/')\n",
    "\n",
    "#Unzipping test data\n",
    "# local_zip = './data/dogs-vs-cats/test1.zip'\n",
    "# zip_ref = zipfile.ZipFile(local_zip, 'r')\n",
    "# zip_ref.extractall('./data/dogs-vs-cats/')\n"
   ]
  },
  {
   "cell_type": "code",
   "execution_count": 21,
   "id": "a9eda110",
   "metadata": {},
   "outputs": [],
   "source": [
    "# os.remove('./data/dogs-vs-cats/train.zip')\n",
    "# os.remove('./data/dogs-vs-cats/test1.zip')"
   ]
  },
  {
   "cell_type": "code",
   "execution_count": null,
   "id": "3448ec8e",
   "metadata": {},
   "outputs": [],
   "source": []
  }
 ],
 "metadata": {
  "kernelspec": {
   "display_name": "Python 3 (ipykernel)",
   "language": "python",
   "name": "python3"
  },
  "language_info": {
   "codemirror_mode": {
    "name": "ipython",
    "version": 3
   },
   "file_extension": ".py",
   "mimetype": "text/x-python",
   "name": "python",
   "nbconvert_exporter": "python",
   "pygments_lexer": "ipython3",
   "version": "3.9.4"
  }
 },
 "nbformat": 4,
 "nbformat_minor": 5
}
