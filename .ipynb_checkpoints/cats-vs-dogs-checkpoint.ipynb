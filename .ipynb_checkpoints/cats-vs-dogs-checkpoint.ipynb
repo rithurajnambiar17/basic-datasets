{
 "cells": [
  {
   "cell_type": "code",
   "execution_count": 15,
   "id": "93537ff3",
   "metadata": {},
   "outputs": [],
   "source": [
    "# !kaggle competitions download -c dogs-vs-cats --force"
   ]
  },
  {
   "cell_type": "code",
   "execution_count": 3,
   "id": "ca4f77b7",
   "metadata": {},
   "outputs": [],
   "source": [
    "import os\n",
    "import shutil\n",
    "import zipfile\n",
    "import tensorflow as tf"
   ]
  },
  {
   "cell_type": "code",
   "execution_count": 17,
   "id": "d48c5319",
   "metadata": {},
   "outputs": [],
   "source": [
    "# shutil.move('./dogs-vs-cats.zip', './data/dogs-vs-cats.zip')"
   ]
  },
  {
   "cell_type": "code",
   "execution_count": 1,
   "id": "24a01e8b",
   "metadata": {},
   "outputs": [],
   "source": [
    "# Unzip data set\n",
    "# local_zip = './data/dogs-vs-cats.zip'\n",
    "# zip_ref = zipfile.ZipFile(local_zip, 'r')\n",
    "# zip_ref.extractall('./data/dogs-vs-cats')\n",
    "\n",
    "# zip_ref.close()"
   ]
  },
  {
   "cell_type": "code",
   "execution_count": 19,
   "id": "bacb2d06",
   "metadata": {},
   "outputs": [],
   "source": [
    "# os.remove('./data/dogs-vs-cats.zip')"
   ]
  },
  {
   "cell_type": "code",
   "execution_count": 20,
   "id": "49e33703",
   "metadata": {},
   "outputs": [],
   "source": [
    "#Unzipping training data\n",
    "# local_zip = './data/dogs-vs-cats/train.zip'\n",
    "# zip_ref = zipfile.ZipFile(local_zip, 'r')\n",
    "# zip_ref.extractall('./data/dogs-vs-cats/')\n",
    "\n",
    "#Unzipping test data\n",
    "# local_zip = './data/dogs-vs-cats/test1.zip'\n",
    "# zip_ref = zipfile.ZipFile(local_zip, 'r')\n",
    "# zip_ref.extractall('./data/dogs-vs-cats/')\n"
   ]
  },
  {
   "cell_type": "code",
   "execution_count": 21,
   "id": "a9eda110",
   "metadata": {},
   "outputs": [],
   "source": [
    "# os.remove('./data/dogs-vs-cats/train.zip')\n",
    "# os.remove('./data/dogs-vs-cats/test1.zip')"
   ]
  },
  {
   "cell_type": "code",
   "execution_count": 13,
   "id": "4e13eabe",
   "metadata": {},
   "outputs": [],
   "source": [
    "train_dir = './data/dogs-vs-cats/train/'\n",
    "test_dir = './data/dogs-vs-cats/test1'"
   ]
  },
  {
   "cell_type": "code",
   "execution_count": 23,
   "id": "bbb503ff",
   "metadata": {},
   "outputs": [
    {
     "name": "stderr",
     "output_type": "stream",
     "text": [
      "A subdirectory or file data\\dogs-vs-cats\\train\\cats already exists.\n"
     ]
    }
   ],
   "source": [
    "!mkdir data\\dogs-vs-cats\\train\\cats\n",
    "!mkdir data\\dogs-vs-cats\\train\\dogs\n",
    "!mkdir data\\dogs-vs-cats\\test\\dogs\n",
    "!mkdir data\\dogs-vs-cats\\test\\cats"
   ]
  },
  {
   "cell_type": "code",
   "execution_count": 16,
   "id": "91c0844d",
   "metadata": {},
   "outputs": [
    {
     "name": "stdout",
     "output_type": "stream",
     "text": [
      "cat.0.jpg\n",
      "cat.1.jpg\n",
      "cat.10.jpg\n",
      "cat.100.jpg\n",
      "cat.1000.jpg\n"
     ]
    }
   ],
   "source": [
    "train = os.listdir(train_dir)\n",
    "for i in train:\n",
    "    if 'cat' in i:\n",
    "        os.move"
   ]
  },
  {
   "cell_type": "code",
   "execution_count": 4,
   "id": "3448ec8e",
   "metadata": {},
   "outputs": [
    {
     "data": {
      "text/plain": [
       "['sampleSubmission.csv', 'test1', 'train']"
      ]
     },
     "execution_count": 4,
     "metadata": {},
     "output_type": "execute_result"
    }
   ],
   "source": [
    "os.listdir('./data/dogs-vs-cats')"
   ]
  },
  {
   "cell_type": "code",
   "execution_count": 14,
   "id": "a887d891",
   "metadata": {},
   "outputs": [],
   "source": [
    "trainGenerator = tf.keras.preprocessing.image.ImageDataGenerator(\n",
    "    rescale = 1./255,\n",
    "    rotation_range = 50,\n",
    "    width_shift_range = 2.0,\n",
    "    height_shift_range = 2.0,    \n",
    "    shear_range = 0.4,\n",
    "    zoom_range = 2.0,\n",
    "    horizontal_flip = True,\n",
    "    vertical_flip = True,\n",
    "    fill_mode = 'nearest'\n",
    ")"
   ]
  },
  {
   "cell_type": "code",
   "execution_count": 15,
   "id": "6467a65c",
   "metadata": {},
   "outputs": [
    {
     "name": "stdout",
     "output_type": "stream",
     "text": [
      "Found 0 images belonging to 0 classes.\n"
     ]
    },
    {
     "data": {
      "text/plain": [
       "<keras.preprocessing.image.DirectoryIterator at 0x229f4af84f0>"
      ]
     },
     "execution_count": 15,
     "metadata": {},
     "output_type": "execute_result"
    }
   ],
   "source": [
    "trainGenerator.flow_from_directory(\n",
    "    train_dir,\n",
    "    target_size = (150, 150),\n",
    "    batch_size = 20,\n",
    "    class_mode = 'binary'\n",
    ")"
   ]
  },
  {
   "cell_type": "code",
   "execution_count": null,
   "id": "a5ce291c",
   "metadata": {},
   "outputs": [],
   "source": []
  }
 ],
 "metadata": {
  "kernelspec": {
   "display_name": "Python 3 (ipykernel)",
   "language": "python",
   "name": "python3"
  },
  "language_info": {
   "codemirror_mode": {
    "name": "ipython",
    "version": 3
   },
   "file_extension": ".py",
   "mimetype": "text/x-python",
   "name": "python",
   "nbconvert_exporter": "python",
   "pygments_lexer": "ipython3",
   "version": "3.9.4"
  }
 },
 "nbformat": 4,
 "nbformat_minor": 5
}
