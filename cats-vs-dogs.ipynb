{
 "cells": [
  {
   "cell_type": "code",
   "execution_count": 15,
   "id": "93537ff3",
   "metadata": {},
   "outputs": [],
   "source": [
    "# !kaggle competitions download -c dogs-vs-cats --force"
   ]
  },
  {
   "cell_type": "code",
   "execution_count": 1,
   "id": "ca4f77b7",
   "metadata": {},
   "outputs": [],
   "source": [
    "import os\n",
    "import shutil\n",
    "import zipfile\n",
    "import tensorflow as tf"
   ]
  },
  {
   "cell_type": "code",
   "execution_count": 17,
   "id": "d48c5319",
   "metadata": {},
   "outputs": [],
   "source": [
    "# shutil.move('./dogs-vs-cats.zip', './data/dogs-vs-cats.zip')"
   ]
  },
  {
   "cell_type": "code",
   "execution_count": 1,
   "id": "24a01e8b",
   "metadata": {},
   "outputs": [],
   "source": [
    "# Unzip data set\n",
    "# local_zip = './data/dogs-vs-cats.zip'\n",
    "# zip_ref = zipfile.ZipFile(local_zip, 'r')\n",
    "# zip_ref.extractall('./data/dogs-vs-cats')\n",
    "\n",
    "# zip_ref.close()"
   ]
  },
  {
   "cell_type": "code",
   "execution_count": 19,
   "id": "bacb2d06",
   "metadata": {},
   "outputs": [],
   "source": [
    "# os.remove('./data/dogs-vs-cats.zip')"
   ]
  },
  {
   "cell_type": "code",
   "execution_count": 20,
   "id": "49e33703",
   "metadata": {},
   "outputs": [],
   "source": [
    "#Unzipping training data\n",
    "# local_zip = './data/dogs-vs-cats/train.zip'\n",
    "# zip_ref = zipfile.ZipFile(local_zip, 'r')\n",
    "# zip_ref.extractall('./data/dogs-vs-cats/')\n",
    "\n",
    "#Unzipping test data\n",
    "# local_zip = './data/dogs-vs-cats/test1.zip'\n",
    "# zip_ref = zipfile.ZipFile(local_zip, 'r')\n",
    "# zip_ref.extractall('./data/dogs-vs-cats/')\n"
   ]
  },
  {
   "cell_type": "code",
   "execution_count": 21,
   "id": "a9eda110",
   "metadata": {},
   "outputs": [],
   "source": [
    "# os.remove('./data/dogs-vs-cats/train.zip')\n",
    "# os.remove('./data/dogs-vs-cats/test1.zip')"
   ]
  },
  {
   "cell_type": "code",
   "execution_count": 13,
   "id": "4e13eabe",
   "metadata": {},
   "outputs": [],
   "source": [
    "train_dir = './data/dogs-vs-cats/train/'\n",
    "test_dir = './data/dogs-vs-cats/test1'\n",
    "train = os.listdir(train_dir)\n",
    "test = os.listdir(test_dir)"
   ]
  },
  {
   "cell_type": "code",
   "execution_count": 14,
   "id": "bbb503ff",
   "metadata": {},
   "outputs": [
    {
     "name": "stderr",
     "output_type": "stream",
     "text": [
      "A subdirectory or file data\\dogs-vs-cats\\train\\cats already exists.\n",
      "A subdirectory or file data\\dogs-vs-cats\\train\\dogs already exists.\n",
      "A subdirectory or file data\\dogs-vs-cats\\test1\\dogs already exists.\n",
      "A subdirectory or file data\\dogs-vs-cats\\test1\\cats already exists.\n"
     ]
    }
   ],
   "source": [
    "!mkdir data\\dogs-vs-cats\\train\\cats\n",
    "!mkdir data\\dogs-vs-cats\\train\\dogs\n",
    "!mkdir data\\dogs-vs-cats\\test1\\dogs\n",
    "!mkdir data\\dogs-vs-cats\\test1\\cats"
   ]
  },
  {
   "cell_type": "code",
   "execution_count": 17,
   "id": "91c0844d",
   "metadata": {},
   "outputs": [],
   "source": [
    "for i in train:\n",
    "    if 'cat' in i:\n",
    "        # shutil.move(train_dir+i, './data/dogs-vs-cats/train/cats/'+i)\n",
    "        pass\n",
    "    elif 'dog' in i:\n",
    "        # shutil.move(train_dir+i, './data/dogs-vs-cats/train/dogs/'+i)\n",
    "        pass"
   ]
  },
  {
   "cell_type": "code",
   "execution_count": 21,
   "id": "6c667f08",
   "metadata": {},
   "outputs": [],
   "source": [
    "!mkdir data\\dogs-vs-cats\\train\\train\n",
    "!mkdir data\\dogs-vs-cats\\train\\test\n",
    "!mkdir data\\dogs-vs-cats\\train\\train\\cats\n",
    "!mkdir data\\dogs-vs-cats\\train\\train\\dogs\n",
    "!mkdir data\\dogs-vs-cats\\train\\test\\cats\n",
    "!mkdir data\\dogs-vs-cats\\train\\test\\dogs"
   ]
  },
  {
   "cell_type": "code",
   "execution_count": 25,
   "id": "f1bee21c",
   "metadata": {},
   "outputs": [
    {
     "ename": "FileNotFoundError",
     "evalue": "[Errno 2] No such file or directory: './data/dogs-vs-cats/train/cats/cat.12247.jpg'",
     "output_type": "error",
     "traceback": [
      "\u001b[1;31m---------------------------------------------------------------------------\u001b[0m",
      "\u001b[1;31mFileNotFoundError\u001b[0m                         Traceback (most recent call last)",
      "File \u001b[1;32mc:\\Users\\ADMIN\\AppData\\Local\\Programs\\Python\\Python39\\lib\\shutil.py:806\u001b[0m, in \u001b[0;36mmove\u001b[1;34m(src, dst, copy_function)\u001b[0m\n\u001b[0;32m    <a href='file:///c%3A/Users/ADMIN/AppData/Local/Programs/Python/Python39/lib/shutil.py?line=804'>805</a>\u001b[0m \u001b[39mtry\u001b[39;00m:\n\u001b[1;32m--> <a href='file:///c%3A/Users/ADMIN/AppData/Local/Programs/Python/Python39/lib/shutil.py?line=805'>806</a>\u001b[0m     os\u001b[39m.\u001b[39;49mrename(src, real_dst)\n\u001b[0;32m    <a href='file:///c%3A/Users/ADMIN/AppData/Local/Programs/Python/Python39/lib/shutil.py?line=806'>807</a>\u001b[0m \u001b[39mexcept\u001b[39;00m \u001b[39mOSError\u001b[39;00m:\n",
      "\u001b[1;31mFileNotFoundError\u001b[0m: [WinError 2] The system cannot find the file specified: './data/dogs-vs-cats/train/cats/cat.12247.jpg' -> './data/dogs-vs-cats/train/test/cats/cat.12247.jpg'",
      "\nDuring handling of the above exception, another exception occurred:\n",
      "\u001b[1;31mFileNotFoundError\u001b[0m                         Traceback (most recent call last)",
      "\u001b[1;32mc:\\Users\\ADMIN\\Desktop\\basic-datasets\\cats-vs-dogs.ipynb Cell 12'\u001b[0m in \u001b[0;36m<module>\u001b[1;34m\u001b[0m\n\u001b[0;32m     <a href='vscode-notebook-cell:/c%3A/Users/ADMIN/Desktop/basic-datasets/cats-vs-dogs.ipynb#ch0000016?line=17'>18</a>\u001b[0m \u001b[39m#for cats\u001b[39;00m\n\u001b[0;32m     <a href='vscode-notebook-cell:/c%3A/Users/ADMIN/Desktop/basic-datasets/cats-vs-dogs.ipynb#ch0000016?line=18'>19</a>\u001b[0m \u001b[39mfor\u001b[39;00m i \u001b[39min\u001b[39;00m train_cats[\u001b[39m2500\u001b[39m:]:\n\u001b[1;32m---> <a href='vscode-notebook-cell:/c%3A/Users/ADMIN/Desktop/basic-datasets/cats-vs-dogs.ipynb#ch0000016?line=19'>20</a>\u001b[0m     shutil\u001b[39m.\u001b[39;49mmove(\u001b[39m'\u001b[39;49m\u001b[39m./data/dogs-vs-cats/train/cats/\u001b[39;49m\u001b[39m'\u001b[39;49m\u001b[39m+\u001b[39;49mi, \u001b[39m'\u001b[39;49m\u001b[39m./data/dogs-vs-cats/train/test/cats/\u001b[39;49m\u001b[39m'\u001b[39;49m\u001b[39m+\u001b[39;49mi)\n",
      "File \u001b[1;32mc:\\Users\\ADMIN\\AppData\\Local\\Programs\\Python\\Python39\\lib\\shutil.py:826\u001b[0m, in \u001b[0;36mmove\u001b[1;34m(src, dst, copy_function)\u001b[0m\n\u001b[0;32m    <a href='file:///c%3A/Users/ADMIN/AppData/Local/Programs/Python/Python39/lib/shutil.py?line=823'>824</a>\u001b[0m         rmtree(src)\n\u001b[0;32m    <a href='file:///c%3A/Users/ADMIN/AppData/Local/Programs/Python/Python39/lib/shutil.py?line=824'>825</a>\u001b[0m     \u001b[39melse\u001b[39;00m:\n\u001b[1;32m--> <a href='file:///c%3A/Users/ADMIN/AppData/Local/Programs/Python/Python39/lib/shutil.py?line=825'>826</a>\u001b[0m         copy_function(src, real_dst)\n\u001b[0;32m    <a href='file:///c%3A/Users/ADMIN/AppData/Local/Programs/Python/Python39/lib/shutil.py?line=826'>827</a>\u001b[0m         os\u001b[39m.\u001b[39munlink(src)\n\u001b[0;32m    <a href='file:///c%3A/Users/ADMIN/AppData/Local/Programs/Python/Python39/lib/shutil.py?line=827'>828</a>\u001b[0m \u001b[39mreturn\u001b[39;00m real_dst\n",
      "File \u001b[1;32mc:\\Users\\ADMIN\\AppData\\Local\\Programs\\Python\\Python39\\lib\\shutil.py:435\u001b[0m, in \u001b[0;36mcopy2\u001b[1;34m(src, dst, follow_symlinks)\u001b[0m\n\u001b[0;32m    <a href='file:///c%3A/Users/ADMIN/AppData/Local/Programs/Python/Python39/lib/shutil.py?line=432'>433</a>\u001b[0m \u001b[39mif\u001b[39;00m os\u001b[39m.\u001b[39mpath\u001b[39m.\u001b[39misdir(dst):\n\u001b[0;32m    <a href='file:///c%3A/Users/ADMIN/AppData/Local/Programs/Python/Python39/lib/shutil.py?line=433'>434</a>\u001b[0m     dst \u001b[39m=\u001b[39m os\u001b[39m.\u001b[39mpath\u001b[39m.\u001b[39mjoin(dst, os\u001b[39m.\u001b[39mpath\u001b[39m.\u001b[39mbasename(src))\n\u001b[1;32m--> <a href='file:///c%3A/Users/ADMIN/AppData/Local/Programs/Python/Python39/lib/shutil.py?line=434'>435</a>\u001b[0m copyfile(src, dst, follow_symlinks\u001b[39m=\u001b[39;49mfollow_symlinks)\n\u001b[0;32m    <a href='file:///c%3A/Users/ADMIN/AppData/Local/Programs/Python/Python39/lib/shutil.py?line=435'>436</a>\u001b[0m copystat(src, dst, follow_symlinks\u001b[39m=\u001b[39mfollow_symlinks)\n\u001b[0;32m    <a href='file:///c%3A/Users/ADMIN/AppData/Local/Programs/Python/Python39/lib/shutil.py?line=436'>437</a>\u001b[0m \u001b[39mreturn\u001b[39;00m dst\n",
      "File \u001b[1;32mc:\\Users\\ADMIN\\AppData\\Local\\Programs\\Python\\Python39\\lib\\shutil.py:264\u001b[0m, in \u001b[0;36mcopyfile\u001b[1;34m(src, dst, follow_symlinks)\u001b[0m\n\u001b[0;32m    <a href='file:///c%3A/Users/ADMIN/AppData/Local/Programs/Python/Python39/lib/shutil.py?line=261'>262</a>\u001b[0m     os\u001b[39m.\u001b[39msymlink(os\u001b[39m.\u001b[39mreadlink(src), dst)\n\u001b[0;32m    <a href='file:///c%3A/Users/ADMIN/AppData/Local/Programs/Python/Python39/lib/shutil.py?line=262'>263</a>\u001b[0m \u001b[39melse\u001b[39;00m:\n\u001b[1;32m--> <a href='file:///c%3A/Users/ADMIN/AppData/Local/Programs/Python/Python39/lib/shutil.py?line=263'>264</a>\u001b[0m     \u001b[39mwith\u001b[39;00m \u001b[39mopen\u001b[39;49m(src, \u001b[39m'\u001b[39;49m\u001b[39mrb\u001b[39;49m\u001b[39m'\u001b[39;49m) \u001b[39mas\u001b[39;00m fsrc, \u001b[39mopen\u001b[39m(dst, \u001b[39m'\u001b[39m\u001b[39mwb\u001b[39m\u001b[39m'\u001b[39m) \u001b[39mas\u001b[39;00m fdst:\n\u001b[0;32m    <a href='file:///c%3A/Users/ADMIN/AppData/Local/Programs/Python/Python39/lib/shutil.py?line=264'>265</a>\u001b[0m         \u001b[39m# macOS\u001b[39;00m\n\u001b[0;32m    <a href='file:///c%3A/Users/ADMIN/AppData/Local/Programs/Python/Python39/lib/shutil.py?line=265'>266</a>\u001b[0m         \u001b[39mif\u001b[39;00m _HAS_FCOPYFILE:\n\u001b[0;32m    <a href='file:///c%3A/Users/ADMIN/AppData/Local/Programs/Python/Python39/lib/shutil.py?line=266'>267</a>\u001b[0m             \u001b[39mtry\u001b[39;00m:\n",
      "\u001b[1;31mFileNotFoundError\u001b[0m: [Errno 2] No such file or directory: './data/dogs-vs-cats/train/cats/cat.12247.jpg'"
     ]
    }
   ],
   "source": [
    "#for train\n",
    "#for dogs\n",
    "train_dogs = os.listdir('./data/dogs-vs-cats/train/dogs')\n",
    "for i in train_dogs[:2500]:\n",
    "    shutil.move('./data/dogs-vs-cats/train/dogs/'+i, './data/dogs-vs-cats/train/train/dogs/'+i)\n",
    "\n",
    "#for cats\n",
    "train_cats = os.listdir('./data/dogs-vs-cats/train/cats')\n",
    "for i in train_cats[:2500]:\n",
    "    shutil.move('./data/dogs-vs-cats/train/cats/'+i, './data/dogs-vs-cats/train/train/cats/'+i)\n",
    "\n",
    "\n",
    "#for test\n",
    "#for dogs\n",
    "for i in train_dogs[2500:]:\n",
    "    shutil.move('./data/dogs-vs-cats/train/dogs/'+i, './data/dogs-vs-cats/train/test/dogs/'+i)\n",
    "\n",
    "#for cats\n",
    "for i in train_cats[2500:]:\n",
    "    shutil.move('./data/dogs-vs-cats/train/cats/'+i, './data/dogs-vs-cats/train/test/cats/'+i)\n"
   ]
  },
  {
   "cell_type": "code",
   "execution_count": 14,
   "id": "a887d891",
   "metadata": {},
   "outputs": [],
   "source": [
    "trainGenerator = tf.keras.preprocessing.image.ImageDataGenerator(\n",
    "    rescale = 1./255,\n",
    "    rotation_range = 50,\n",
    "    width_shift_range = 2.0,\n",
    "    height_shift_range = 2.0,    \n",
    "    shear_range = 0.4,\n",
    "    zoom_range = 2.0,\n",
    "    horizontal_flip = True,\n",
    "    vertical_flip = True,\n",
    "    fill_mode = 'nearest'\n",
    "    validation_\n",
    ")"
   ]
  },
  {
   "cell_type": "code",
   "execution_count": 15,
   "id": "6467a65c",
   "metadata": {},
   "outputs": [
    {
     "name": "stdout",
     "output_type": "stream",
     "text": [
      "Found 0 images belonging to 0 classes.\n"
     ]
    },
    {
     "data": {
      "text/plain": [
       "<keras.preprocessing.image.DirectoryIterator at 0x229f4af84f0>"
      ]
     },
     "execution_count": 15,
     "metadata": {},
     "output_type": "execute_result"
    }
   ],
   "source": [
    "trainGenerator.flow_from_directory(\n",
    "    train_dir,\n",
    "    target_size = (150, 150),\n",
    "    batch_size = 20,\n",
    "    class_mode = 'binary'\n",
    ")"
   ]
  },
  {
   "cell_type": "code",
   "execution_count": null,
   "id": "a5ce291c",
   "metadata": {},
   "outputs": [],
   "source": []
  }
 ],
 "metadata": {
  "interpreter": {
   "hash": "c081257499a92776a7ff5343ee4d85420a7950a6ae97b0cb2aee7a7ddd41b7f2"
  },
  "kernelspec": {
   "display_name": "Python 3.9.4 64-bit",
   "language": "python",
   "name": "python3"
  },
  "language_info": {
   "codemirror_mode": {
    "name": "ipython",
    "version": 3
   },
   "file_extension": ".py",
   "mimetype": "text/x-python",
   "name": "python",
   "nbconvert_exporter": "python",
   "pygments_lexer": "ipython3",
   "version": "3.9.4"
  }
 },
 "nbformat": 4,
 "nbformat_minor": 5
}
