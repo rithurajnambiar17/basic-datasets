{
 "cells": [
  {
   "cell_type": "code",
   "execution_count": 33,
   "id": "93537ff3",
   "metadata": {},
   "outputs": [],
   "source": [
    "# !kaggle competitions download -c dogs-vs-cats --force"
   ]
  },
  {
   "cell_type": "code",
   "execution_count": 34,
   "id": "ca4f77b7",
   "metadata": {},
   "outputs": [],
   "source": [
    "import os\n",
    "import shutil\n",
    "import zipfile\n",
    "import tensorflow as tf"
   ]
  },
  {
   "cell_type": "code",
   "execution_count": 35,
   "id": "d48c5319",
   "metadata": {},
   "outputs": [],
   "source": [
    "# shutil.move('./dogs-vs-cats.zip', './data/dogs-vs-cats.zip')"
   ]
  },
  {
   "cell_type": "code",
   "execution_count": 36,
   "id": "24a01e8b",
   "metadata": {},
   "outputs": [],
   "source": [
    "# Unzip data set\n",
    "# local_zip = './data/dogs-vs-cats.zip'\n",
    "# zip_ref = zipfile.ZipFile(local_zip, 'r')\n",
    "# zip_ref.extractall('./data/dogs-vs-cats')\n",
    "\n",
    "# zip_ref.close()"
   ]
  },
  {
   "cell_type": "code",
   "execution_count": 37,
   "id": "bacb2d06",
   "metadata": {},
   "outputs": [],
   "source": [
    "# os.remove('./data/dogs-vs-cats.zip')"
   ]
  },
  {
   "cell_type": "code",
   "execution_count": 38,
   "id": "49e33703",
   "metadata": {},
   "outputs": [],
   "source": [
    "#Unzipping training data\n",
    "# local_zip = './data/dogs-vs-cats/train.zip'\n",
    "# zip_ref = zipfile.ZipFile(local_zip, 'r')\n",
    "# zip_ref.extractall('./data/dogs-vs-cats/')\n",
    "\n",
    "#Unzipping test data\n",
    "# local_zip = './data/dogs-vs-cats/test1.zip'\n",
    "# zip_ref = zipfile.ZipFile(local_zip, 'r')\n",
    "# zip_ref.extractall('./data/dogs-vs-cats/')\n"
   ]
  },
  {
   "cell_type": "code",
   "execution_count": 39,
   "id": "a9eda110",
   "metadata": {},
   "outputs": [],
   "source": [
    "# os.remove('./data/dogs-vs-cats/train.zip')\n",
    "# os.remove('./data/dogs-vs-cats/test1.zip')"
   ]
  },
  {
   "cell_type": "code",
   "execution_count": 40,
   "id": "4e13eabe",
   "metadata": {},
   "outputs": [],
   "source": [
    "train_dir = './data/dogs-vs-cats/train/'\n",
    "test_dir = './data/dogs-vs-cats/test1'\n",
    "train = os.listdir(train_dir)\n",
    "test = os.listdir(test_dir)"
   ]
  },
  {
   "cell_type": "code",
   "execution_count": 41,
   "id": "bbb503ff",
   "metadata": {},
   "outputs": [
    {
     "name": "stderr",
     "output_type": "stream",
     "text": [
      "A subdirectory or file data\\dogs-vs-cats\\train\\cats already exists.\n",
      "A subdirectory or file data\\dogs-vs-cats\\train\\dogs already exists.\n",
      "A subdirectory or file data\\dogs-vs-cats\\test1\\dogs already exists.\n",
      "A subdirectory or file data\\dogs-vs-cats\\test1\\cats already exists.\n"
     ]
    }
   ],
   "source": [
    "!mkdir data\\dogs-vs-cats\\train\\cats\n",
    "!mkdir data\\dogs-vs-cats\\train\\dogs\n",
    "!mkdir data\\dogs-vs-cats\\test1\\dogs\n",
    "!mkdir data\\dogs-vs-cats\\test1\\cats"
   ]
  },
  {
   "cell_type": "code",
   "execution_count": 42,
   "id": "91c0844d",
   "metadata": {},
   "outputs": [],
   "source": [
    "for i in train:\n",
    "    if 'cat' in i:\n",
    "        # shutil.move(train_dir+i, './data/dogs-vs-cats/train/cats/'+i)\n",
    "        pass\n",
    "    elif 'dog' in i:\n",
    "        # shutil.move(train_dir+i, './data/dogs-vs-cats/train/dogs/'+i)\n",
    "        pass"
   ]
  },
  {
   "cell_type": "code",
   "execution_count": 43,
   "id": "6c667f08",
   "metadata": {},
   "outputs": [
    {
     "name": "stderr",
     "output_type": "stream",
     "text": [
      "A subdirectory or file data\\dogs-vs-cats\\train\\train already exists.\n",
      "A subdirectory or file data\\dogs-vs-cats\\train\\test already exists.\n",
      "A subdirectory or file data\\dogs-vs-cats\\train\\train\\cats already exists.\n",
      "A subdirectory or file data\\dogs-vs-cats\\train\\train\\dogs already exists.\n",
      "A subdirectory or file data\\dogs-vs-cats\\train\\test\\cats already exists.\n",
      "A subdirectory or file data\\dogs-vs-cats\\train\\test\\dogs already exists.\n"
     ]
    }
   ],
   "source": [
    "!mkdir data\\dogs-vs-cats\\train\\train\n",
    "!mkdir data\\dogs-vs-cats\\train\\test\n",
    "!mkdir data\\dogs-vs-cats\\train\\train\\cats\n",
    "!mkdir data\\dogs-vs-cats\\train\\train\\dogs\n",
    "!mkdir data\\dogs-vs-cats\\train\\test\\cats\n",
    "!mkdir data\\dogs-vs-cats\\train\\test\\dogs"
   ]
  },
  {
   "cell_type": "code",
   "execution_count": 44,
   "id": "f1bee21c",
   "metadata": {},
   "outputs": [],
   "source": [
    "#for train\n",
    "#for dogs\n",
    "train_dogs = os.listdir('./data/dogs-vs-cats/train/dogs')\n",
    "for i in train_dogs[2500:]:\n",
    "    shutil.move('./data/dogs-vs-cats/train/dogs/'+i, './data/dogs-vs-cats/train/train/dogs/'+i)\n",
    "\n",
    "#for cats\n",
    "train_cats = os.listdir('./data/dogs-vs-cats/train/cats')\n",
    "for i in train_cats[2500:]:\n",
    "    shutil.move('./data/dogs-vs-cats/train/cats/'+i, './data/dogs-vs-cats/train/train/cats/'+i)\n",
    "\n",
    "\n",
    "#for test\n",
    "#for dogs\n",
    "for i in train_dogs[:2500]:\n",
    "    shutil.move('./data/dogs-vs-cats/train/dogs/'+i, './data/dogs-vs-cats/train/test/dogs/'+i)\n",
    "\n",
    "#for cats\n",
    "for i in train_cats[:2500]:\n",
    "    shutil.move('./data/dogs-vs-cats/train/cats/'+i, './data/dogs-vs-cats/train/test/cats/'+i)\n"
   ]
  },
  {
   "cell_type": "code",
   "execution_count": 45,
   "id": "a887d891",
   "metadata": {},
   "outputs": [],
   "source": [
    "trainGenerator = tf.keras.preprocessing.image.ImageDataGenerator(\n",
    "    rescale = 1./255,\n",
    "    rotation_range = 50,\n",
    "    width_shift_range = 2.0,\n",
    "    height_shift_range = 2.0,    \n",
    "    shear_range = 0.4,\n",
    "    zoom_range = 2.0,\n",
    "    horizontal_flip = True,\n",
    "    vertical_flip = True,\n",
    "    fill_mode = 'nearest'\n",
    ")"
   ]
  },
  {
   "cell_type": "code",
   "execution_count": 46,
   "id": "6467a65c",
   "metadata": {},
   "outputs": [
    {
     "name": "stdout",
     "output_type": "stream",
     "text": [
      "Found 20000 images belonging to 2 classes.\n",
      "Found 5000 images belonging to 2 classes.\n"
     ]
    }
   ],
   "source": [
    "train_dir = './data/dogs-vs-cats/train/train'\n",
    "test_dir = './data/dogs-vs-cats/train/test'\n",
    "\n",
    "train = trainGenerator.flow_from_directory(\n",
    "    train_dir,\n",
    "    target_size = (150, 150),\n",
    "    batch_size = 20,\n",
    "    class_mode = 'binary'\n",
    ")\n",
    "\n",
    "val = trainGenerator.flow_from_directory(\n",
    "    test_dir,\n",
    "    target_size = (150, 150),\n",
    "    batch_size = 20,\n",
    "    class_mode = 'binary'\n",
    ")"
   ]
  },
  {
   "cell_type": "code",
   "execution_count": 47,
   "id": "a5ce291c",
   "metadata": {},
   "outputs": [],
   "source": [
    "model = tf.keras.models.Sequential()\n",
    "model.add(tf.keras.layers.Conv2D(32, (3, 3), activation = 'relu', input_shape = (150, 150, 3)))\n",
    "model.add(tf.keras.layers.MaxPooling2D(2, 2))\n",
    "model.add(tf.keras.layers.Conv2D(64, (3, 3), activation = 'relu'))\n",
    "model.add(tf.keras.layers.MaxPooling2D(2, 2))\n",
    "model.add(tf.keras.layers.Conv2D(128, (3, 3), activation = 'relu'))\n",
    "model.add(tf.keras.layers.MaxPooling2D(2, 2))\n",
    "model.add(tf.keras.layers.Flatten())\n",
    "model.add(tf.keras.layers.Dense(512, activation = 'relu'))\n",
    "model.add(tf.keras.layers.Dense(1, activation = 'sigmoid'))"
   ]
  },
  {
   "cell_type": "code",
   "execution_count": 48,
   "id": "bb22ce51",
   "metadata": {},
   "outputs": [
    {
     "name": "stdout",
     "output_type": "stream",
     "text": [
      "Model: \"sequential_1\"\n",
      "_________________________________________________________________\n",
      " Layer (type)                Output Shape              Param #   \n",
      "=================================================================\n",
      " conv2d_3 (Conv2D)           (None, 148, 148, 32)      896       \n",
      "                                                                 \n",
      " max_pooling2d_3 (MaxPooling  (None, 74, 74, 32)       0         \n",
      " 2D)                                                             \n",
      "                                                                 \n",
      " conv2d_4 (Conv2D)           (None, 72, 72, 64)        18496     \n",
      "                                                                 \n",
      " max_pooling2d_4 (MaxPooling  (None, 36, 36, 64)       0         \n",
      " 2D)                                                             \n",
      "                                                                 \n",
      " conv2d_5 (Conv2D)           (None, 34, 34, 128)       73856     \n",
      "                                                                 \n",
      " max_pooling2d_5 (MaxPooling  (None, 17, 17, 128)      0         \n",
      " 2D)                                                             \n",
      "                                                                 \n",
      " flatten_1 (Flatten)         (None, 36992)             0         \n",
      "                                                                 \n",
      " dense_2 (Dense)             (None, 512)               18940416  \n",
      "                                                                 \n",
      " dense_3 (Dense)             (None, 1)                 513       \n",
      "                                                                 \n",
      "=================================================================\n",
      "Total params: 19,034,177\n",
      "Trainable params: 19,034,177\n",
      "Non-trainable params: 0\n",
      "_________________________________________________________________\n"
     ]
    }
   ],
   "source": [
    "model.summary()"
   ]
  },
  {
   "cell_type": "code",
   "execution_count": 49,
   "id": "8b81c6a0",
   "metadata": {},
   "outputs": [],
   "source": [
    "model.compile(\n",
    "    optimizer = 'adam',\n",
    "    loss = 'binary_crossentropy',\n",
    "    metrics = ['accuracy']\n",
    ")"
   ]
  },
  {
   "cell_type": "code",
   "execution_count": 51,
   "id": "a61dbd3b",
   "metadata": {},
   "outputs": [
    {
     "name": "stdout",
     "output_type": "stream",
     "text": [
      "Epoch 1/100\n",
      "100/100 [==============================] - 49s 492ms/step - loss: 0.6939 - accuracy: 0.5050 - val_loss: 0.6915 - val_accuracy: 0.5190\n",
      "Epoch 2/100\n",
      "100/100 [==============================] - 50s 504ms/step - loss: 0.6925 - accuracy: 0.5290 - val_loss: 0.6851 - val_accuracy: 0.5610\n",
      "Epoch 3/100\n",
      "100/100 [==============================] - 50s 495ms/step - loss: 0.6926 - accuracy: 0.5300 - val_loss: 0.6877 - val_accuracy: 0.5440\n",
      "Epoch 4/100\n",
      "100/100 [==============================] - 49s 490ms/step - loss: 0.6923 - accuracy: 0.5225 - val_loss: 0.6881 - val_accuracy: 0.5530\n",
      "Epoch 5/100\n",
      "100/100 [==============================] - 49s 488ms/step - loss: 0.6913 - accuracy: 0.5500 - val_loss: 0.6886 - val_accuracy: 0.5510\n",
      "Epoch 6/100\n",
      "100/100 [==============================] - 48s 482ms/step - loss: 0.6867 - accuracy: 0.5405 - val_loss: 0.6810 - val_accuracy: 0.5670\n",
      "Epoch 7/100\n",
      "100/100 [==============================] - 47s 472ms/step - loss: 0.6884 - accuracy: 0.5455 - val_loss: 0.6840 - val_accuracy: 0.5610\n",
      "Epoch 8/100\n",
      "100/100 [==============================] - 47s 470ms/step - loss: 0.6819 - accuracy: 0.5630 - val_loss: 0.6703 - val_accuracy: 0.5870\n",
      "Epoch 9/100\n",
      "100/100 [==============================] - 47s 468ms/step - loss: 0.6880 - accuracy: 0.5480 - val_loss: 0.6874 - val_accuracy: 0.5580\n",
      "Epoch 10/100\n",
      "100/100 [==============================] - 48s 481ms/step - loss: 0.6866 - accuracy: 0.5500 - val_loss: 0.6785 - val_accuracy: 0.5620\n",
      "Epoch 11/100\n",
      "100/100 [==============================] - 46s 464ms/step - loss: 0.6902 - accuracy: 0.5425 - val_loss: 0.6905 - val_accuracy: 0.5440\n",
      "Epoch 12/100\n",
      "100/100 [==============================] - 46s 457ms/step - loss: 0.6871 - accuracy: 0.5585 - val_loss: 0.6877 - val_accuracy: 0.5420\n",
      "Epoch 13/100\n",
      "100/100 [==============================] - 88s 889ms/step - loss: 0.6858 - accuracy: 0.5540 - val_loss: 0.6830 - val_accuracy: 0.5480\n",
      "Epoch 14/100\n",
      "100/100 [==============================] - 48s 483ms/step - loss: 0.6879 - accuracy: 0.5495 - val_loss: 0.6866 - val_accuracy: 0.5500\n",
      "Epoch 15/100\n",
      "100/100 [==============================] - 47s 468ms/step - loss: 0.6847 - accuracy: 0.5605 - val_loss: 0.6834 - val_accuracy: 0.5680\n",
      "Epoch 16/100\n",
      "100/100 [==============================] - 45s 446ms/step - loss: 0.6860 - accuracy: 0.5615 - val_loss: 0.6823 - val_accuracy: 0.5640\n",
      "Epoch 17/100\n",
      "100/100 [==============================] - 47s 471ms/step - loss: 0.6830 - accuracy: 0.5630 - val_loss: 0.6873 - val_accuracy: 0.5560\n",
      "Epoch 18/100\n",
      "100/100 [==============================] - 47s 466ms/step - loss: 0.6886 - accuracy: 0.5450 - val_loss: 0.6865 - val_accuracy: 0.5470\n",
      "Epoch 19/100\n",
      "100/100 [==============================] - 46s 461ms/step - loss: 0.6877 - accuracy: 0.5445 - val_loss: 0.6875 - val_accuracy: 0.5560\n",
      "Epoch 20/100\n",
      "100/100 [==============================] - 48s 482ms/step - loss: 0.6905 - accuracy: 0.5355 - val_loss: 0.6843 - val_accuracy: 0.5490\n",
      "Epoch 21/100\n",
      " 27/100 [=======>......................] - ETA: 29s - loss: 0.6857 - accuracy: 0.5519"
     ]
    }
   ],
   "source": [
    "history = model.fit(\n",
    "      train,\n",
    "      steps_per_epoch=100,  # 20000 images = batch_size * steps\n",
    "      epochs=100,\n",
    "      validation_data=val,\n",
    "      validation_steps=50  # 5000 images = batch_size * steps\n",
    ")"
   ]
  },
  {
   "cell_type": "code",
   "execution_count": null,
   "id": "265e0877",
   "metadata": {},
   "outputs": [],
   "source": []
  }
 ],
 "metadata": {
  "interpreter": {
   "hash": "c081257499a92776a7ff5343ee4d85420a7950a6ae97b0cb2aee7a7ddd41b7f2"
  },
  "kernelspec": {
   "display_name": "Python 3.9.4 64-bit",
   "language": "python",
   "name": "python3"
  },
  "language_info": {
   "codemirror_mode": {
    "name": "ipython",
    "version": 3
   },
   "file_extension": ".py",
   "mimetype": "text/x-python",
   "name": "python",
   "nbconvert_exporter": "python",
   "pygments_lexer": "ipython3",
   "version": "3.9.4"
  }
 },
 "nbformat": 4,
 "nbformat_minor": 5
}
