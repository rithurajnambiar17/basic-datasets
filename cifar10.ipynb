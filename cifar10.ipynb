{
 "cells": [
  {
   "cell_type": "code",
   "execution_count": 13,
   "id": "026c1ddc",
   "metadata": {},
   "outputs": [],
   "source": [
    "import numpy as np\n",
    "import tensorflow as tf\n",
    "import matplotlib.pyplot as plt"
   ]
  },
  {
   "cell_type": "code",
   "execution_count": 2,
   "id": "337d7a38",
   "metadata": {},
   "outputs": [],
   "source": [
    "cifar = tf.keras.datasets.cifar10"
   ]
  },
  {
   "cell_type": "code",
   "execution_count": 3,
   "id": "22af4d9a",
   "metadata": {},
   "outputs": [
    {
     "name": "stdout",
     "output_type": "stream",
     "text": [
      "Downloading data from https://www.cs.toronto.edu/~kriz/cifar-10-python.tar.gz\n",
      "170500096/170498071 [==============================] - 618s 4us/step\n",
      "170508288/170498071 [==============================] - 618s 4us/step\n"
     ]
    }
   ],
   "source": [
    "(X_train, y_train), (X_test, y_test) = cifar.load_data()"
   ]
  },
  {
   "cell_type": "code",
   "execution_count": 9,
   "id": "5f3e08a6",
   "metadata": {},
   "outputs": [],
   "source": [
    "X_train = X_train / 255.0\n",
    "X_test = X_test / 255.0"
   ]
  },
  {
   "cell_type": "code",
   "execution_count": 10,
   "id": "d2c2e76b",
   "metadata": {},
   "outputs": [
    {
     "data": {
      "text/plain": [
       "(32, 32, 3)"
      ]
     },
     "execution_count": 10,
     "metadata": {},
     "output_type": "execute_result"
    }
   ],
   "source": [
    "X_train[0].shape"
   ]
  },
  {
   "cell_type": "code",
   "execution_count": 14,
   "id": "93509d3d",
   "metadata": {},
   "outputs": [
    {
     "data": {
      "text/plain": [
       "array([0, 1, 2, 3, 4, 5, 6, 7, 8, 9], dtype=uint8)"
      ]
     },
     "execution_count": 14,
     "metadata": {},
     "output_type": "execute_result"
    }
   ],
   "source": [
    "np.unique(y_train)"
   ]
  },
  {
   "cell_type": "code",
   "execution_count": 15,
   "id": "ed097e38",
   "metadata": {},
   "outputs": [],
   "source": [
    "model = tf.keras.models.Sequential()\n",
    "model.add(tf.keras.layers.Conv2D(64, (3,3), activation = 'relu', input_shape = (32, 32, 3)))\n",
    "model.add(tf.keras.layers.MaxPooling2D(2, 2))\n",
    "model.add(tf.keras.layers.Conv2D(64, (3,3), activation = 'relu'))\n",
    "model.add(tf.keras.layers.MaxPooling2D(2, 2))\n",
    "model.add(tf.keras.layers.Flatten())\n",
    "model.add(tf.keras.layers.Dense(512, activation = 'relu'))\n",
    "model.add(tf.keras.layers.Dense(10, activation = 'softmax'))"
   ]
  },
  {
   "cell_type": "code",
   "execution_count": 17,
   "id": "df32951a",
   "metadata": {},
   "outputs": [],
   "source": [
    "model.compile(\n",
    "    optimizer = tf.optimizers.Adam(),\n",
    "    loss = 'sparse_categorical_crossentropy',\n",
    "    metrics = ['accuracy']\n",
    ")"
   ]
  },
  {
   "cell_type": "code",
   "execution_count": 18,
   "id": "764bc821",
   "metadata": {},
   "outputs": [
    {
     "name": "stdout",
     "output_type": "stream",
     "text": [
      "Model: \"sequential\"\n",
      "_________________________________________________________________\n",
      " Layer (type)                Output Shape              Param #   \n",
      "=================================================================\n",
      " conv2d (Conv2D)             (None, 30, 30, 64)        1792      \n",
      "                                                                 \n",
      " max_pooling2d (MaxPooling2D  (None, 15, 15, 64)       0         \n",
      " )                                                               \n",
      "                                                                 \n",
      " conv2d_1 (Conv2D)           (None, 13, 13, 64)        36928     \n",
      "                                                                 \n",
      " max_pooling2d_1 (MaxPooling  (None, 6, 6, 64)         0         \n",
      " 2D)                                                             \n",
      "                                                                 \n",
      " flatten (Flatten)           (None, 2304)              0         \n",
      "                                                                 \n",
      " dense (Dense)               (None, 512)               1180160   \n",
      "                                                                 \n",
      " dense_1 (Dense)             (None, 10)                5130      \n",
      "                                                                 \n",
      "=================================================================\n",
      "Total params: 1,224,010\n",
      "Trainable params: 1,224,010\n",
      "Non-trainable params: 0\n",
      "_________________________________________________________________\n"
     ]
    }
   ],
   "source": [
    "model.summary()"
   ]
  },
  {
   "cell_type": "code",
   "execution_count": 19,
   "id": "5e10edea",
   "metadata": {},
   "outputs": [
    {
     "name": "stdout",
     "output_type": "stream",
     "text": [
      "Epoch 1/10\n",
      "1563/1563 [==============================] - 50s 32ms/step - loss: 1.3991 - accuracy: 0.4964\n",
      "Epoch 2/10\n",
      "1563/1563 [==============================] - 49s 31ms/step - loss: 1.0295 - accuracy: 0.6399\n",
      "Epoch 3/10\n",
      "1563/1563 [==============================] - 49s 31ms/step - loss: 0.8525 - accuracy: 0.7032\n",
      "Epoch 4/10\n",
      "1563/1563 [==============================] - 49s 32ms/step - loss: 0.7107 - accuracy: 0.7506\n",
      "Epoch 5/10\n",
      "1563/1563 [==============================] - 49s 31ms/step - loss: 0.5838 - accuracy: 0.7952\n",
      "Epoch 6/10\n",
      "1563/1563 [==============================] - 49s 31ms/step - loss: 0.4675 - accuracy: 0.8363\n",
      "Epoch 7/10\n",
      "1563/1563 [==============================] - 49s 31ms/step - loss: 0.3595 - accuracy: 0.8749\n",
      "Epoch 8/10\n",
      "1563/1563 [==============================] - 49s 31ms/step - loss: 0.2716 - accuracy: 0.9049\n",
      "Epoch 9/10\n",
      "1563/1563 [==============================] - 49s 31ms/step - loss: 0.2051 - accuracy: 0.9284\n",
      "Epoch 10/10\n",
      "1563/1563 [==============================] - 49s 31ms/step - loss: 0.1612 - accuracy: 0.9452\n"
     ]
    },
    {
     "data": {
      "text/plain": [
       "<keras.callbacks.History at 0x1cc4c5667c0>"
      ]
     },
     "execution_count": 19,
     "metadata": {},
     "output_type": "execute_result"
    }
   ],
   "source": [
    "model.fit(X_train, y_train, epochs = 10)"
   ]
  },
  {
   "cell_type": "code",
   "execution_count": 20,
   "id": "9eac3136",
   "metadata": {},
   "outputs": [
    {
     "name": "stdout",
     "output_type": "stream",
     "text": [
      "313/313 [==============================] - 2s 7ms/step - loss: 1.4424 - accuracy: 0.6929\n"
     ]
    },
    {
     "data": {
      "text/plain": [
       "[1.4423927068710327, 0.6929000020027161]"
      ]
     },
     "execution_count": 20,
     "metadata": {},
     "output_type": "execute_result"
    }
   ],
   "source": [
    "model.evaluate(X_test, y_test)"
   ]
  },
  {
   "cell_type": "code",
   "execution_count": 22,
   "id": "cda548d9",
   "metadata": {},
   "outputs": [],
   "source": [
    "model = tf.keras.models.Sequential()\n",
    "model.add(tf.keras.layers.Conv2D(64, (3,3), activation = 'relu', input_shape = (32, 32, 3)))\n",
    "model.add(tf.keras.layers.MaxPooling2D(2, 2))\n",
    "model.add(tf.keras.layers.Conv2D(64, (3,3), activation = 'relu'))\n",
    "model.add(tf.keras.layers.MaxPooling2D(2, 2))\n",
    "model.add(tf.keras.layers.Flatten())\n",
    "model.add(tf.keras.layers.Dense(512, activation = 'relu'))\n",
    "model.add(tf.keras.layers.Dense(256, activation = 'sigmoid'))\n",
    "model.add(tf.keras.layers.Dense(10, activation = 'softmax'))"
   ]
  },
  {
   "cell_type": "code",
   "execution_count": 24,
   "id": "362dc376",
   "metadata": {},
   "outputs": [],
   "source": [
    "model.compile(\n",
    "    optimizer = tf.optimizers.SGD(),\n",
    "    loss = 'sparse_categorical_crossentropy',\n",
    "    metrics = ['accuracy']\n",
    ")"
   ]
  },
  {
   "cell_type": "code",
   "execution_count": 25,
   "id": "e2ec7fd1",
   "metadata": {},
   "outputs": [
    {
     "name": "stdout",
     "output_type": "stream",
     "text": [
      "Epoch 1/10\n",
      "1563/1563 [==============================] - 49s 31ms/step - loss: 2.1954 - accuracy: 0.1853\n",
      "Epoch 2/10\n",
      "1563/1563 [==============================] - 47s 30ms/step - loss: 1.9238 - accuracy: 0.3074\n",
      "Epoch 3/10\n",
      "1563/1563 [==============================] - 50s 32ms/step - loss: 1.7291 - accuracy: 0.3823\n",
      "Epoch 4/10\n",
      "1563/1563 [==============================] - 47s 30ms/step - loss: 1.5605 - accuracy: 0.4391\n",
      "Epoch 5/10\n",
      "1563/1563 [==============================] - 46s 30ms/step - loss: 1.4617 - accuracy: 0.4765\n",
      "Epoch 6/10\n",
      "1563/1563 [==============================] - 44s 28ms/step - loss: 1.3879 - accuracy: 0.5018\n",
      "Epoch 7/10\n",
      "1563/1563 [==============================] - 48s 31ms/step - loss: 1.3249 - accuracy: 0.5275\n",
      "Epoch 8/10\n",
      "1563/1563 [==============================] - 48s 31ms/step - loss: 1.2637 - accuracy: 0.5514\n",
      "Epoch 9/10\n",
      "1563/1563 [==============================] - 47s 30ms/step - loss: 1.2106 - accuracy: 0.5701\n",
      "Epoch 10/10\n",
      "1563/1563 [==============================] - 48s 31ms/step - loss: 1.1590 - accuracy: 0.5910\n"
     ]
    },
    {
     "data": {
      "text/plain": [
       "<keras.callbacks.History at 0x1cc53ba6fa0>"
      ]
     },
     "execution_count": 25,
     "metadata": {},
     "output_type": "execute_result"
    }
   ],
   "source": [
    "model.fit(X_train, y_train, epochs=10)"
   ]
  },
  {
   "cell_type": "code",
   "execution_count": 26,
   "id": "561dba30",
   "metadata": {},
   "outputs": [],
   "source": [
    "model = tf.keras.models.Sequential()\n",
    "model.add(tf.keras.layers.Conv2D(64, (3,3), activation = 'relu', input_shape = (32, 32, 3)))\n",
    "model.add(tf.keras.layers.MaxPooling2D(2, 2))\n",
    "model.add(tf.keras.layers.Conv2D(64, (3,3), activation = 'relu'))\n",
    "model.add(tf.keras.layers.MaxPooling2D(2, 2))\n",
    "model.add(tf.keras.layers.Flatten())\n",
    "model.add(tf.keras.layers.Dense(512, activation = 'relu'))\n",
    "model.add(tf.keras.layers.Dense(256, activation = 'relu'))\n",
    "model.add(tf.keras.layers.Dense(10, activation = 'softmax'))"
   ]
  },
  {
   "cell_type": "code",
   "execution_count": 27,
   "id": "490d6bd3",
   "metadata": {},
   "outputs": [],
   "source": [
    "model.compile(\n",
    "    optimizer = tf.optimizers.Adam(),\n",
    "    loss = 'sparse_categorical_crossentropy',\n",
    "    metrics = ['accuracy']\n",
    ")"
   ]
  },
  {
   "cell_type": "code",
   "execution_count": 28,
   "id": "a82d03e8",
   "metadata": {},
   "outputs": [
    {
     "name": "stdout",
     "output_type": "stream",
     "text": [
      "Epoch 1/15\n",
      "1563/1563 [==============================] - 52s 33ms/step - loss: 1.3487 - accuracy: 0.5159\n",
      "Epoch 2/15\n",
      "1563/1563 [==============================] - 50s 32ms/step - loss: 0.9571 - accuracy: 0.6628\n",
      "Epoch 3/15\n",
      "1563/1563 [==============================] - 48s 31ms/step - loss: 0.7713 - accuracy: 0.7324\n",
      "Epoch 4/15\n",
      "1563/1563 [==============================] - 47s 30ms/step - loss: 0.6202 - accuracy: 0.7824\n",
      "Epoch 5/15\n",
      "1563/1563 [==============================] - 47s 30ms/step - loss: 0.4906 - accuracy: 0.8282\n",
      "Epoch 6/15\n",
      "1563/1563 [==============================] - 46s 30ms/step - loss: 0.3675 - accuracy: 0.8701\n",
      "Epoch 7/15\n",
      "1563/1563 [==============================] - 46s 30ms/step - loss: 0.2755 - accuracy: 0.9035\n",
      "Epoch 8/15\n",
      "1563/1563 [==============================] - 47s 30ms/step - loss: 0.2121 - accuracy: 0.9244\n",
      "Epoch 9/15\n",
      "1563/1563 [==============================] - 48s 31ms/step - loss: 0.1705 - accuracy: 0.9401\n",
      "Epoch 10/15\n",
      "1563/1563 [==============================] - 50s 32ms/step - loss: 0.1462 - accuracy: 0.9484\n",
      "Epoch 11/15\n",
      "1563/1563 [==============================] - 51s 32ms/step - loss: 0.1259 - accuracy: 0.9569\n",
      "Epoch 12/15\n",
      "1563/1563 [==============================] - 51s 32ms/step - loss: 0.1133 - accuracy: 0.9615\n",
      "Epoch 13/15\n",
      "1563/1563 [==============================] - 51s 33ms/step - loss: 0.1037 - accuracy: 0.9654\n",
      "Epoch 14/15\n",
      "1563/1563 [==============================] - 52s 33ms/step - loss: 0.0932 - accuracy: 0.9691\n",
      "Epoch 15/15\n",
      "1563/1563 [==============================] - 51s 32ms/step - loss: 0.0935 - accuracy: 0.9676\n"
     ]
    },
    {
     "data": {
      "text/plain": [
       "<keras.callbacks.History at 0x1cc54de5b80>"
      ]
     },
     "execution_count": 28,
     "metadata": {},
     "output_type": "execute_result"
    }
   ],
   "source": [
    "model.fit(X_train, y_train, epochs = 15)"
   ]
  },
  {
   "cell_type": "code",
   "execution_count": 29,
   "id": "551775a5",
   "metadata": {},
   "outputs": [
    {
     "name": "stdout",
     "output_type": "stream",
     "text": [
      "313/313 [==============================] - 2s 7ms/step - loss: 1.9228 - accuracy: 0.7078\n"
     ]
    },
    {
     "data": {
      "text/plain": [
       "[1.9228135347366333, 0.7077999711036682]"
      ]
     },
     "execution_count": 29,
     "metadata": {},
     "output_type": "execute_result"
    }
   ],
   "source": [
    "model.evaluate(X_test, y_test)"
   ]
  }
 ],
 "metadata": {
  "kernelspec": {
   "display_name": "Python 3 (ipykernel)",
   "language": "python",
   "name": "python3"
  },
  "language_info": {
   "codemirror_mode": {
    "name": "ipython",
    "version": 3
   },
   "file_extension": ".py",
   "mimetype": "text/x-python",
   "name": "python",
   "nbconvert_exporter": "python",
   "pygments_lexer": "ipython3",
   "version": "3.9.4"
  }
 },
 "nbformat": 4,
 "nbformat_minor": 5
}
